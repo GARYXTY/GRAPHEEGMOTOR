{
 "cells": [
  {
   "cell_type": "code",
   "execution_count": 1,
   "metadata": {},
   "outputs": [
    {
     "name": "stderr",
     "output_type": "stream",
     "text": [
      "2024-06-08 14:55:11.595215: I tensorflow/stream_executor/platform/default/dso_loader.cc:53] Successfully opened dynamic library libcudart.so.11.0\n"
     ]
    }
   ],
   "source": [
    "import tensorflow as tf\n",
    "import numpy as np\n",
    "from sklearn.model_selection import train_test_split\n",
    "from sklearn.model_selection import KFold\n",
    "import os\n",
    "os.environ[\"CUDA_VISIBLE_DEVICES\"] = '2'\n",
    "import Graph_EEGresnet"
   ]
  },
  {
   "cell_type": "markdown",
   "metadata": {},
   "source": [
    "## Example Code for Evaluating Our model\n",
    "\n",
    "This example is made based on subject-dependent paradigm in Physionet dataset."
   ]
  },
  {
   "cell_type": "code",
   "execution_count": 2,
   "metadata": {},
   "outputs": [],
   "source": [
    "dataset = np.load('data/Physionet.npy', allow_pickle=True).item()"
   ]
  },
  {
   "cell_type": "code",
   "execution_count": 3,
   "metadata": {},
   "outputs": [],
   "source": [
    "def split_data(fold, dataset):\n",
    "    X = [dataset[i]['X'] for i in dataset.keys() if i not in [87, 88, 91, 99, 103]]\n",
    "    y = [dataset[i]['y'] for i in dataset.keys() if i not in [87, 88, 91, 99, 103]]\n",
    "    X = np.concatenate(X)\n",
    "    y = np.concatenate(y)\n",
    "\n",
    "    n = 0\n",
    "    kf = KFold(n_splits=5, random_state=2022, shuffle=True)\n",
    "    for train_index, test_index in kf.split(X):\n",
    "        if n == fold:\n",
    "            X_train, y_train = X[train_index], y[train_index]\n",
    "            X_test, y_test = X[test_index], y[test_index]\n",
    "            X_train, X_val, y_train, y_val = train_test_split(X_train, y_train, test_size=0.125, random_state=2022)\n",
    "            break\n",
    "        n = n + 1\n",
    "    \n",
    "    return X_train, X_val, X_test, y_train, y_val, y_test"
   ]
  },
  {
   "cell_type": "code",
   "execution_count": 4,
   "metadata": {},
   "outputs": [
    {
     "name": "stderr",
     "output_type": "stream",
     "text": [
      "2024-06-08 14:55:24.562725: I tensorflow/stream_executor/platform/default/dso_loader.cc:53] Successfully opened dynamic library libcuda.so.1\n",
      "2024-06-08 14:55:24.595639: I tensorflow/core/common_runtime/gpu/gpu_device.cc:1733] Found device 0 with properties: \n",
      "pciBusID: 0000:09:00.0 name: NVIDIA TITAN Xp computeCapability: 6.1\n",
      "coreClock: 1.582GHz coreCount: 30 deviceMemorySize: 11.90GiB deviceMemoryBandwidth: 510.07GiB/s\n",
      "2024-06-08 14:55:24.595676: I tensorflow/stream_executor/platform/default/dso_loader.cc:53] Successfully opened dynamic library libcudart.so.11.0\n",
      "2024-06-08 14:55:24.607623: I tensorflow/stream_executor/platform/default/dso_loader.cc:53] Successfully opened dynamic library libcublas.so.11\n",
      "2024-06-08 14:55:24.607673: I tensorflow/stream_executor/platform/default/dso_loader.cc:53] Successfully opened dynamic library libcublasLt.so.11\n",
      "2024-06-08 14:55:24.608998: I tensorflow/stream_executor/platform/default/dso_loader.cc:53] Successfully opened dynamic library libcufft.so.10\n",
      "2024-06-08 14:55:24.610539: I tensorflow/stream_executor/platform/default/dso_loader.cc:53] Successfully opened dynamic library libcurand.so.10\n",
      "2024-06-08 14:55:24.611486: I tensorflow/stream_executor/platform/default/dso_loader.cc:53] Successfully opened dynamic library libcusolver.so.11\n",
      "2024-06-08 14:55:24.613125: I tensorflow/stream_executor/platform/default/dso_loader.cc:53] Successfully opened dynamic library libcusparse.so.11\n",
      "2024-06-08 14:55:24.613702: I tensorflow/stream_executor/platform/default/dso_loader.cc:53] Successfully opened dynamic library libcudnn.so.8\n",
      "2024-06-08 14:55:24.614476: I tensorflow/core/common_runtime/gpu/gpu_device.cc:1871] Adding visible gpu devices: 0\n",
      "2024-06-08 14:55:24.615024: I tensorflow/core/platform/cpu_feature_guard.cc:142] This TensorFlow binary is optimized with oneAPI Deep Neural Network Library (oneDNN) to use the following CPU instructions in performance-critical operations:  AVX2 FMA\n",
      "To enable them in other operations, rebuild TensorFlow with the appropriate compiler flags.\n",
      "2024-06-08 14:55:24.617105: I tensorflow/core/common_runtime/gpu/gpu_device.cc:1733] Found device 0 with properties: \n",
      "pciBusID: 0000:09:00.0 name: NVIDIA TITAN Xp computeCapability: 6.1\n",
      "coreClock: 1.582GHz coreCount: 30 deviceMemorySize: 11.90GiB deviceMemoryBandwidth: 510.07GiB/s\n",
      "2024-06-08 14:55:24.618398: I tensorflow/core/common_runtime/gpu/gpu_device.cc:1871] Adding visible gpu devices: 0\n",
      "2024-06-08 14:55:24.618498: I tensorflow/stream_executor/platform/default/dso_loader.cc:53] Successfully opened dynamic library libcudart.so.11.0\n",
      "2024-06-08 14:55:25.304801: I tensorflow/core/common_runtime/gpu/gpu_device.cc:1258] Device interconnect StreamExecutor with strength 1 edge matrix:\n",
      "2024-06-08 14:55:25.304844: I tensorflow/core/common_runtime/gpu/gpu_device.cc:1264]      0 \n",
      "2024-06-08 14:55:25.304852: I tensorflow/core/common_runtime/gpu/gpu_device.cc:1277] 0:   N \n",
      "2024-06-08 14:55:25.305841: I tensorflow/core/common_runtime/gpu/gpu_device.cc:1418] Created TensorFlow device (/job:localhost/replica:0/task:0/device:GPU:0 with 11419 MB memory) -> physical GPU (device: 0, name: NVIDIA TITAN Xp, pci bus id: 0000:09:00.0, compute capability: 6.1)\n",
      "2024-06-08 14:55:31.213370: I tensorflow/compiler/mlir/mlir_graph_optimization_pass.cc:176] None of the MLIR Optimization Passes are enabled (registered 2)\n",
      "2024-06-08 14:55:31.233013: I tensorflow/core/platform/profile_utils/cpu_utils.cc:114] CPU Frequency: 2598605000 Hz\n",
      "2024-06-08 14:55:33.353713: I tensorflow/stream_executor/platform/default/dso_loader.cc:53] Successfully opened dynamic library libcudnn.so.8\n",
      "2024-06-08 14:55:33.773344: I tensorflow/stream_executor/cuda/cuda_dnn.cc:359] Loaded cuDNN version 8201\n",
      "2024-06-08 14:55:34.311551: E tensorflow/core/platform/default/subprocess.cc:304] Start cannot spawn child process: No such file or directory\n",
      "2024-06-08 14:55:34.311618: W tensorflow/stream_executor/gpu/asm_compiler.cc:56] Couldn't invoke ptxas --version\n",
      "2024-06-08 14:55:34.312786: E tensorflow/core/platform/default/subprocess.cc:304] Start cannot spawn child process: No such file or directory\n",
      "2024-06-08 14:55:34.312863: W tensorflow/stream_executor/gpu/redzone_allocator.cc:314] Internal: Failed to launch ptxas\n",
      "Relying on driver to perform ptx compilation. \n",
      "Modify $PATH to customize ptxas location.\n",
      "This message will be only logged once.\n",
      "2024-06-08 14:55:34.338888: I tensorflow/stream_executor/platform/default/dso_loader.cc:53] Successfully opened dynamic library libcublas.so.11\n",
      "2024-06-08 14:55:34.837855: I tensorflow/stream_executor/platform/default/dso_loader.cc:53] Successfully opened dynamic library libcublasLt.so.11\n"
     ]
    }
   ],
   "source": [
    "MODEL_NAME = 'Ours'\n",
    "pred = []\n",
    "gt = []\n",
    "model = Graph_EEGresnet.irfanet(960, 64, 128, 4, '', 0.075)\n",
    "for fold in range(5):\n",
    "    model_path = 'models/%s/%s/weights.hdf5'%(MODEL_NAME, str(fold))\n",
    "    model.load_weights(model_path)\n",
    "    X_train, X_val, X_test, y_train, y_val, y_test = split_data(fold, dataset)\n",
    "    EEG_mov_p = model.predict(X_test)\n",
    "    pred.append(EEG_mov_p)\n",
    "    gt.append(y_test)\n"
   ]
  },
  {
   "cell_type": "code",
   "execution_count": 5,
   "metadata": {},
   "outputs": [
    {
     "data": {
      "text/plain": [
       "(0.7356108859293572,\n",
       " 0.7365256327057406,\n",
       " 0.7379267609583741,\n",
       " [0.7353792704111175,\n",
       "  0.7295888824551245,\n",
       "  0.7365373480023162,\n",
       "  0.7353792704111175,\n",
       "  0.7411696583671106])"
      ]
     },
     "execution_count": 5,
     "metadata": {},
     "output_type": "execute_result"
    }
   ],
   "source": [
    "from sklearn.metrics import confusion_matrix, accuracy_score, precision_score,recall_score\n",
    "EEG_acc = []\n",
    "EEG_pre = []\n",
    "EEG_recall = []\n",
    "matrix = []\n",
    "for p,g in zip(pred,gt):\n",
    "    p_0 = np.argmax(p[2], axis=1)\n",
    "    g = np.argmax(g, axis=1)\n",
    "    EEG_acc.append(accuracy_score(p_0,g))\n",
    "    EEG_pre.append(precision_score(p_0,g, average='macro'))\n",
    "    EEG_recall.append(recall_score(p_0,g,average='macro'))\n",
    "    matrix.append(confusion_matrix(p_0,g))\n",
    "np.mean(EEG_acc), np.mean(EEG_pre), np.mean(EEG_recall), EEG_acc"
   ]
  }
 ],
 "metadata": {
  "kernelspec": {
   "display_name": "my-TF25GPU",
   "language": "python",
   "name": "my-tf25gpu"
  },
  "language_info": {
   "codemirror_mode": {
    "name": "ipython",
    "version": 3
   },
   "file_extension": ".py",
   "mimetype": "text/x-python",
   "name": "python",
   "nbconvert_exporter": "python",
   "pygments_lexer": "ipython3",
   "version": "3.7.0"
  }
 },
 "nbformat": 4,
 "nbformat_minor": 2
}
